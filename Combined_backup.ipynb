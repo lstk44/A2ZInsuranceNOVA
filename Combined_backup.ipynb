{
 "cells": [
  {
   "cell_type": "markdown",
   "metadata": {},
   "source": [
    "# A2Z Insurance \n",
    "\n",
    "## General Context\n",
    "\n",
    "Finding new customers is vital in every industry. The process for finding new\n",
    "customers begins by learning as much as possible from the existing customers.\n",
    "Understanding current customers allow organizations to identify groups of\n",
    "customers that have different product interests, different market\n",
    "participation, or different response to marketing efforts. With this, we will\n",
    "be able not only to serve better our customers, but also to improve the\n",
    "targeting of prospective customers.\n",
    "\n",
    "Market segmentation, the process of identifying customers’ groups, makes use\n",
    "of geographic, demographic, psychographic, and behavioral characteristics of\n",
    "customers. By understanding the differences between the different segments,\n",
    "organizations can make better strategic choices about opportunities, product\n",
    "definition, positioning, promotions, pricing, and target marketing.\n",
    "\n",
    "## Business Situation\n",
    "\n",
    "A2Z Insurance (A2Z) is a portuguese long standing insurance company that\n",
    "serves a wide array of insurance services: Motor, Household, Health, Life and\n",
    "Work Compensation. Although A2Z primarily serves portuguese customers, a\n",
    "significant portion of their customer acquisition comes from their web site.\n",
    "Customers can sign up to A2Z services through their branches, by telephone, or\n",
    "on the web site.\n",
    "\n",
    "In 2016, A2Z became one of the largest insurers in Portugal. However, the lack\n",
    "of a data driven culture in the company ultimately led to poorly maintained\n",
    "databases over the years. A2Z is trying to make better use of the database it\n",
    "has regarding its customers. So far, it has simply mass-marketed everything.\n",
    "All potential and existing customers get the same promotions, and there are no\n",
    "attempts to identify target markets for cross-selling opportunities. Now, A2Z\n",
    "wants start differentiating customers, and developing more focused programs.\n",
    "\n",
    "A2Z provided you an ABT (Analytic Based Table) with data regarding a sample of\n",
    "10.290 Customers from its active database. These are customers that had at\n",
    "least one insurance service with the company at the time the dataset was\n",
    "extracted. Your job is to segment the database and find the relevant clusters\n",
    "of customers. To do this, we suggest you segment the customers using different\n",
    "perspectives and approaches, as well as combine and analyze the results. A2Z\n",
    "would like to understand the value and demographics of each customer segment,\n",
    "as well as understand which types of insurance they will be more interested in\n",
    "buying.\n",
    "\n",
    "## Metadata\n",
    "\n",
    "| Variable \t\t      | Description                              | Additional Information |\n",
    "|---------------------|------------------------------------------|------------------------|\n",
    "| ID \t\t          | ID \t\t                                 |                        |\n",
    "| First Policy \t\t  | Year of the customer’s first policy      | (1)                    |\n",
    "| Birthday            | Customer’s Birthday Year                 | (2)                    |\n",
    "| Education           | Academic Degree                          |                        |\n",
    "| Salary              | Gross monthly salary (€) \t\t         |                        |\n",
    "| Area \t\t          | Living area \t\t                     | (3)                    |\n",
    "| Children \t\t      | Binary variable (Y=1) \t\t             |                        |\n",
    "| CMV \t\t          | Customer Monetary Value \t\t         | (4)                    |\n",
    "| Claims \t\t      | Claims Rate \t\t                     | (5)                    |\n",
    "| Motor \t\t      | Premiums (€) in LOB: Motor \t\t         | (6)                    |\n",
    "| Household \t\t  | Premiums (€) in LOB: Household \t\t     | (6)                    |\n",
    "| Health \t\t      | Premiums (€) in LOB: Health \t\t     | (6)                    |\n",
    "| Life \t\t          | Premiums (€) in LOB: Life \t\t         | (6)                    |\n",
    "| Work Compensation   | Premiums (€) in LOB: Work Compensations  | (6)                    |\n",
    "\n",
    "## Additional Information\n",
    "\n",
    "1. May be considered as the first year as a customer\n",
    "2. The current year of the database is 2016\n",
    "3. No further information provided about the meaning of the area codes\n",
    "4. Lifetime value = (annual profit from the customer) X (number of years that they are a customer) - (acquisition cost)\n",
    "5. Amount paid by the insurance company (€)/ Premiums (€) Note: in the last 2 years\n",
    "6. Annual Premiums (2016). Negative premiums may manifest reversals occurred in the current year, paid in previous one(s).\n",
    "\n",
    "Notice the data was stored in a SAS database file. There may be some intricacies when\n",
    "reading this file type using Python. Make sure the data is being\n",
    "imported properly and that you remove (before or after converting it to a\n",
    "pandas data frame) any irrelevant rows/columns you may find.\n",
    "\n",
    "## Expected outcomes\n",
    "\n",
    "1. Explore the data and identify the variables that should be used to segment customers.\n",
    "2. Identify customer segments\n",
    "3. Justify the number of clusters you chose (taking in consideration the business use as well).\n",
    "4. Explain the clusters found.\n",
    "5. Suggest business applications for the findings and define general marketing\n",
    "   approaches for each cluster.\n",
    "\n",
    "**Note:** Invest time into evaluating your preprocessing pipeling, thinking\n",
    "how you want to do your clustering, possible approaches, and advantages or\n",
    "disadvantages of different decisions.\n",
    "\n",
    "\n",
    "---"
   ]
  },
  {
   "cell_type": "code",
<<<<<<< Updated upstream
=======
   "execution_count": null,
   "metadata": {},
   "outputs": [],
   "source": []
  },
  {
   "cell_type": "code",
>>>>>>> Stashed changes
   "execution_count": 1,
   "metadata": {},
   "outputs": [],
   "source": [
    "import pandas as pd\n",
    "import numpy as np\n",
    "import matplotlib.pyplot as plt\n",
    "import seaborn as sns\n",
    "import math\n",
    "\n",
    "from sklearn.impute import KNNImputer\n",
    "from sklearn.preprocessing import RobustScaler\n",
    "from sklearn.decomposition import PCA"
   ]
  },
  {
   "cell_type": "code",
   "execution_count": 2,
   "metadata": {},
   "outputs": [],
   "source": [
    "df = pd.read_sas('a2z_insurance.sas7bdat', index = 'CustID')"
   ]
  },
  {
   "cell_type": "markdown",
   "metadata": {},
   "source": [
    "---\n",
    "### Exploratory Data Analysis"
   ]
  },
  {
   "cell_type": "code",
   "execution_count": 3,
   "metadata": {},
   "outputs": [
    {
     "data": {
      "text/html": [
       "<div>\n",
       "<style scoped>\n",
       "    .dataframe tbody tr th:only-of-type {\n",
       "        vertical-align: middle;\n",
       "    }\n",
       "\n",
       "    .dataframe tbody tr th {\n",
       "        vertical-align: top;\n",
       "    }\n",
       "\n",
       "    .dataframe thead th {\n",
       "        text-align: right;\n",
       "    }\n",
       "</style>\n",
       "<table border=\"1\" class=\"dataframe\">\n",
       "  <thead>\n",
       "    <tr style=\"text-align: right;\">\n",
       "      <th></th>\n",
       "      <th>FirstPolYear</th>\n",
       "      <th>BirthYear</th>\n",
       "      <th>EducDeg</th>\n",
       "      <th>MonthSal</th>\n",
       "      <th>GeoLivArea</th>\n",
       "      <th>Children</th>\n",
       "      <th>CustMonVal</th>\n",
       "      <th>ClaimsRate</th>\n",
       "      <th>PremMotor</th>\n",
       "      <th>PremHousehold</th>\n",
       "      <th>PremHealth</th>\n",
       "      <th>PremLife</th>\n",
       "      <th>PremWork</th>\n",
       "    </tr>\n",
       "    <tr>\n",
       "      <th>CustID</th>\n",
       "      <th></th>\n",
       "      <th></th>\n",
       "      <th></th>\n",
       "      <th></th>\n",
       "      <th></th>\n",
       "      <th></th>\n",
       "      <th></th>\n",
       "      <th></th>\n",
       "      <th></th>\n",
       "      <th></th>\n",
       "      <th></th>\n",
       "      <th></th>\n",
       "      <th></th>\n",
       "    </tr>\n",
       "  </thead>\n",
       "  <tbody>\n",
       "    <tr>\n",
       "      <th>1.0</th>\n",
       "      <td>1985.0</td>\n",
       "      <td>1982.0</td>\n",
       "      <td>b'2 - High School'</td>\n",
       "      <td>2177.0</td>\n",
       "      <td>1.0</td>\n",
       "      <td>1.0</td>\n",
       "      <td>380.97</td>\n",
       "      <td>0.39</td>\n",
       "      <td>375.85</td>\n",
       "      <td>79.45</td>\n",
       "      <td>146.36</td>\n",
       "      <td>47.01</td>\n",
       "      <td>16.89</td>\n",
       "    </tr>\n",
       "    <tr>\n",
       "      <th>2.0</th>\n",
       "      <td>1981.0</td>\n",
       "      <td>1995.0</td>\n",
       "      <td>b'2 - High School'</td>\n",
       "      <td>677.0</td>\n",
       "      <td>4.0</td>\n",
       "      <td>1.0</td>\n",
       "      <td>-131.13</td>\n",
       "      <td>1.12</td>\n",
       "      <td>77.46</td>\n",
       "      <td>416.20</td>\n",
       "      <td>116.69</td>\n",
       "      <td>194.48</td>\n",
       "      <td>106.13</td>\n",
       "    </tr>\n",
       "    <tr>\n",
       "      <th>3.0</th>\n",
       "      <td>1991.0</td>\n",
       "      <td>1970.0</td>\n",
       "      <td>b'1 - Basic'</td>\n",
       "      <td>2277.0</td>\n",
       "      <td>3.0</td>\n",
       "      <td>0.0</td>\n",
       "      <td>504.67</td>\n",
       "      <td>0.28</td>\n",
       "      <td>206.15</td>\n",
       "      <td>224.50</td>\n",
       "      <td>124.58</td>\n",
       "      <td>86.35</td>\n",
       "      <td>99.02</td>\n",
       "    </tr>\n",
       "    <tr>\n",
       "      <th>4.0</th>\n",
       "      <td>1990.0</td>\n",
       "      <td>1981.0</td>\n",
       "      <td>b'3 - BSc/MSc'</td>\n",
       "      <td>1099.0</td>\n",
       "      <td>4.0</td>\n",
       "      <td>1.0</td>\n",
       "      <td>-16.99</td>\n",
       "      <td>0.99</td>\n",
       "      <td>182.48</td>\n",
       "      <td>43.35</td>\n",
       "      <td>311.17</td>\n",
       "      <td>35.34</td>\n",
       "      <td>28.34</td>\n",
       "    </tr>\n",
       "    <tr>\n",
       "      <th>5.0</th>\n",
       "      <td>1986.0</td>\n",
       "      <td>1973.0</td>\n",
       "      <td>b'3 - BSc/MSc'</td>\n",
       "      <td>1763.0</td>\n",
       "      <td>4.0</td>\n",
       "      <td>1.0</td>\n",
       "      <td>35.23</td>\n",
       "      <td>0.90</td>\n",
       "      <td>338.62</td>\n",
       "      <td>47.80</td>\n",
       "      <td>182.59</td>\n",
       "      <td>18.78</td>\n",
       "      <td>41.45</td>\n",
       "    </tr>\n",
       "    <tr>\n",
       "      <th>...</th>\n",
       "      <td>...</td>\n",
       "      <td>...</td>\n",
       "      <td>...</td>\n",
       "      <td>...</td>\n",
       "      <td>...</td>\n",
       "      <td>...</td>\n",
       "      <td>...</td>\n",
       "      <td>...</td>\n",
       "      <td>...</td>\n",
       "      <td>...</td>\n",
       "      <td>...</td>\n",
       "      <td>...</td>\n",
       "      <td>...</td>\n",
       "    </tr>\n",
       "    <tr>\n",
       "      <th>10292.0</th>\n",
       "      <td>1984.0</td>\n",
       "      <td>1949.0</td>\n",
       "      <td>b'4 - PhD'</td>\n",
       "      <td>3188.0</td>\n",
       "      <td>2.0</td>\n",
       "      <td>0.0</td>\n",
       "      <td>-0.11</td>\n",
       "      <td>0.96</td>\n",
       "      <td>393.74</td>\n",
       "      <td>49.45</td>\n",
       "      <td>173.81</td>\n",
       "      <td>9.78</td>\n",
       "      <td>14.78</td>\n",
       "    </tr>\n",
       "    <tr>\n",
       "      <th>10293.0</th>\n",
       "      <td>1977.0</td>\n",
       "      <td>1952.0</td>\n",
       "      <td>b'1 - Basic'</td>\n",
       "      <td>2431.0</td>\n",
       "      <td>3.0</td>\n",
       "      <td>0.0</td>\n",
       "      <td>1405.60</td>\n",
       "      <td>0.00</td>\n",
       "      <td>133.58</td>\n",
       "      <td>1035.75</td>\n",
       "      <td>143.25</td>\n",
       "      <td>12.89</td>\n",
       "      <td>105.13</td>\n",
       "    </tr>\n",
       "    <tr>\n",
       "      <th>10294.0</th>\n",
       "      <td>1994.0</td>\n",
       "      <td>1976.0</td>\n",
       "      <td>b'3 - BSc/MSc'</td>\n",
       "      <td>2918.0</td>\n",
       "      <td>1.0</td>\n",
       "      <td>1.0</td>\n",
       "      <td>524.10</td>\n",
       "      <td>0.21</td>\n",
       "      <td>403.63</td>\n",
       "      <td>132.80</td>\n",
       "      <td>142.25</td>\n",
       "      <td>12.67</td>\n",
       "      <td>4.89</td>\n",
       "    </tr>\n",
       "    <tr>\n",
       "      <th>10295.0</th>\n",
       "      <td>1981.0</td>\n",
       "      <td>1977.0</td>\n",
       "      <td>b'1 - Basic'</td>\n",
       "      <td>1971.0</td>\n",
       "      <td>2.0</td>\n",
       "      <td>1.0</td>\n",
       "      <td>250.05</td>\n",
       "      <td>0.65</td>\n",
       "      <td>188.59</td>\n",
       "      <td>211.15</td>\n",
       "      <td>198.37</td>\n",
       "      <td>63.90</td>\n",
       "      <td>112.91</td>\n",
       "    </tr>\n",
       "    <tr>\n",
       "      <th>10296.0</th>\n",
       "      <td>1990.0</td>\n",
       "      <td>1981.0</td>\n",
       "      <td>b'4 - PhD'</td>\n",
       "      <td>2815.0</td>\n",
       "      <td>1.0</td>\n",
       "      <td>1.0</td>\n",
       "      <td>463.75</td>\n",
       "      <td>0.27</td>\n",
       "      <td>414.08</td>\n",
       "      <td>94.45</td>\n",
       "      <td>141.25</td>\n",
       "      <td>6.89</td>\n",
       "      <td>12.89</td>\n",
       "    </tr>\n",
       "  </tbody>\n",
       "</table>\n",
       "<p>10296 rows × 13 columns</p>\n",
       "</div>"
      ],
      "text/plain": [
       "         FirstPolYear  BirthYear             EducDeg  MonthSal  GeoLivArea  \\\n",
       "CustID                                                                       \n",
       "1.0            1985.0     1982.0  b'2 - High School'    2177.0         1.0   \n",
       "2.0            1981.0     1995.0  b'2 - High School'     677.0         4.0   \n",
       "3.0            1991.0     1970.0        b'1 - Basic'    2277.0         3.0   \n",
       "4.0            1990.0     1981.0      b'3 - BSc/MSc'    1099.0         4.0   \n",
       "5.0            1986.0     1973.0      b'3 - BSc/MSc'    1763.0         4.0   \n",
       "...               ...        ...                 ...       ...         ...   \n",
       "10292.0        1984.0     1949.0          b'4 - PhD'    3188.0         2.0   \n",
       "10293.0        1977.0     1952.0        b'1 - Basic'    2431.0         3.0   \n",
       "10294.0        1994.0     1976.0      b'3 - BSc/MSc'    2918.0         1.0   \n",
       "10295.0        1981.0     1977.0        b'1 - Basic'    1971.0         2.0   \n",
       "10296.0        1990.0     1981.0          b'4 - PhD'    2815.0         1.0   \n",
       "\n",
       "         Children  CustMonVal  ClaimsRate  PremMotor  PremHousehold  \\\n",
       "CustID                                                                \n",
       "1.0           1.0      380.97        0.39     375.85          79.45   \n",
       "2.0           1.0     -131.13        1.12      77.46         416.20   \n",
       "3.0           0.0      504.67        0.28     206.15         224.50   \n",
       "4.0           1.0      -16.99        0.99     182.48          43.35   \n",
       "5.0           1.0       35.23        0.90     338.62          47.80   \n",
       "...           ...         ...         ...        ...            ...   \n",
       "10292.0       0.0       -0.11        0.96     393.74          49.45   \n",
       "10293.0       0.0     1405.60        0.00     133.58        1035.75   \n",
       "10294.0       1.0      524.10        0.21     403.63         132.80   \n",
       "10295.0       1.0      250.05        0.65     188.59         211.15   \n",
       "10296.0       1.0      463.75        0.27     414.08          94.45   \n",
       "\n",
       "         PremHealth  PremLife  PremWork  \n",
       "CustID                                   \n",
       "1.0          146.36     47.01     16.89  \n",
       "2.0          116.69    194.48    106.13  \n",
       "3.0          124.58     86.35     99.02  \n",
       "4.0          311.17     35.34     28.34  \n",
       "5.0          182.59     18.78     41.45  \n",
       "...             ...       ...       ...  \n",
       "10292.0      173.81      9.78     14.78  \n",
       "10293.0      143.25     12.89    105.13  \n",
       "10294.0      142.25     12.67      4.89  \n",
       "10295.0      198.37     63.90    112.91  \n",
       "10296.0      141.25      6.89     12.89  \n",
       "\n",
       "[10296 rows x 13 columns]"
      ]
     },
     "execution_count": 3,
     "metadata": {},
     "output_type": "execute_result"
    }
   ],
   "source": [
    "df"
   ]
  },
  {
   "cell_type": "code",
   "execution_count": 4,
   "metadata": {},
   "outputs": [
    {
     "data": {
      "text/plain": [
       "FirstPolYear     float64\n",
       "BirthYear        float64\n",
       "EducDeg           object\n",
       "MonthSal         float64\n",
       "GeoLivArea       float64\n",
       "Children         float64\n",
       "CustMonVal       float64\n",
       "ClaimsRate       float64\n",
       "PremMotor        float64\n",
       "PremHousehold    float64\n",
       "PremHealth       float64\n",
       "PremLife         float64\n",
       "PremWork         float64\n",
       "dtype: object"
      ]
     },
     "execution_count": 4,
     "metadata": {},
     "output_type": "execute_result"
    }
   ],
   "source": [
    "df.dtypes"
   ]
  },
  {
   "cell_type": "code",
   "execution_count": 5,
   "metadata": {},
   "outputs": [
    {
     "data": {
      "text/html": [
       "<div>\n",
       "<style scoped>\n",
       "    .dataframe tbody tr th:only-of-type {\n",
       "        vertical-align: middle;\n",
       "    }\n",
       "\n",
       "    .dataframe tbody tr th {\n",
       "        vertical-align: top;\n",
       "    }\n",
       "\n",
       "    .dataframe thead th {\n",
       "        text-align: right;\n",
       "    }\n",
       "</style>\n",
       "<table border=\"1\" class=\"dataframe\">\n",
       "  <thead>\n",
       "    <tr style=\"text-align: right;\">\n",
       "      <th></th>\n",
       "      <th>Nulls</th>\n",
       "      <th>Empty Strings</th>\n",
       "    </tr>\n",
       "  </thead>\n",
       "  <tbody>\n",
       "    <tr>\n",
       "      <th>FirstPolYear</th>\n",
       "      <td>30</td>\n",
       "      <td>0</td>\n",
       "    </tr>\n",
       "    <tr>\n",
       "      <th>BirthYear</th>\n",
       "      <td>17</td>\n",
       "      <td>0</td>\n",
       "    </tr>\n",
       "    <tr>\n",
       "      <th>EducDeg</th>\n",
       "      <td>17</td>\n",
       "      <td>0</td>\n",
       "    </tr>\n",
       "    <tr>\n",
       "      <th>MonthSal</th>\n",
       "      <td>36</td>\n",
       "      <td>0</td>\n",
       "    </tr>\n",
       "    <tr>\n",
       "      <th>GeoLivArea</th>\n",
       "      <td>1</td>\n",
       "      <td>0</td>\n",
       "    </tr>\n",
       "    <tr>\n",
       "      <th>Children</th>\n",
       "      <td>21</td>\n",
       "      <td>0</td>\n",
       "    </tr>\n",
       "    <tr>\n",
       "      <th>CustMonVal</th>\n",
       "      <td>0</td>\n",
       "      <td>0</td>\n",
       "    </tr>\n",
       "    <tr>\n",
       "      <th>ClaimsRate</th>\n",
       "      <td>0</td>\n",
       "      <td>0</td>\n",
       "    </tr>\n",
       "    <tr>\n",
       "      <th>PremMotor</th>\n",
       "      <td>34</td>\n",
       "      <td>0</td>\n",
       "    </tr>\n",
       "    <tr>\n",
       "      <th>PremHousehold</th>\n",
       "      <td>0</td>\n",
       "      <td>0</td>\n",
       "    </tr>\n",
       "    <tr>\n",
       "      <th>PremHealth</th>\n",
       "      <td>43</td>\n",
       "      <td>0</td>\n",
       "    </tr>\n",
       "    <tr>\n",
       "      <th>PremLife</th>\n",
       "      <td>104</td>\n",
       "      <td>0</td>\n",
       "    </tr>\n",
       "    <tr>\n",
       "      <th>PremWork</th>\n",
       "      <td>86</td>\n",
       "      <td>0</td>\n",
       "    </tr>\n",
       "  </tbody>\n",
       "</table>\n",
       "</div>"
      ],
      "text/plain": [
       "               Nulls  Empty Strings\n",
       "FirstPolYear      30              0\n",
       "BirthYear         17              0\n",
       "EducDeg           17              0\n",
       "MonthSal          36              0\n",
       "GeoLivArea         1              0\n",
       "Children          21              0\n",
       "CustMonVal         0              0\n",
       "ClaimsRate         0              0\n",
       "PremMotor         34              0\n",
       "PremHousehold      0              0\n",
       "PremHealth        43              0\n",
       "PremLife         104              0\n",
       "PremWork          86              0"
      ]
     },
     "execution_count": 5,
     "metadata": {},
     "output_type": "execute_result"
    }
   ],
   "source": [
    "pd.concat([df.isnull().sum(),df.eq('').sum()],keys=['Nulls','Empty Strings'],axis=1)"
   ]
  },
  {
   "cell_type": "code",
   "execution_count": 6,
   "metadata": {},
   "outputs": [
    {
     "data": {
      "text/plain": [
       "3"
      ]
     },
     "execution_count": 6,
     "metadata": {},
     "output_type": "execute_result"
    }
   ],
   "source": [
    "df.duplicated().sum()"
   ]
  },
  {
   "cell_type": "code",
   "execution_count": 7,
   "metadata": {},
   "outputs": [
    {
     "data": {
      "text/html": [
       "<div>\n",
       "<style scoped>\n",
       "    .dataframe tbody tr th:only-of-type {\n",
       "        vertical-align: middle;\n",
       "    }\n",
       "\n",
       "    .dataframe tbody tr th {\n",
       "        vertical-align: top;\n",
       "    }\n",
       "\n",
       "    .dataframe thead th {\n",
       "        text-align: right;\n",
       "    }\n",
       "</style>\n",
       "<table border=\"1\" class=\"dataframe\">\n",
       "  <thead>\n",
       "    <tr style=\"text-align: right;\">\n",
       "      <th></th>\n",
       "      <th>count</th>\n",
       "      <th>mean</th>\n",
       "      <th>std</th>\n",
       "      <th>min</th>\n",
       "      <th>25%</th>\n",
       "      <th>50%</th>\n",
       "      <th>75%</th>\n",
       "      <th>max</th>\n",
       "    </tr>\n",
       "  </thead>\n",
       "  <tbody>\n",
       "    <tr>\n",
       "      <th>FirstPolYear</th>\n",
       "      <td>10266.0</td>\n",
       "      <td>1991.062634</td>\n",
       "      <td>511.267913</td>\n",
       "      <td>1974.00</td>\n",
       "      <td>1980.00</td>\n",
       "      <td>1986.00</td>\n",
       "      <td>1992.0000</td>\n",
       "      <td>53784.00</td>\n",
       "    </tr>\n",
       "    <tr>\n",
       "      <th>BirthYear</th>\n",
       "      <td>10279.0</td>\n",
       "      <td>1968.007783</td>\n",
       "      <td>19.709476</td>\n",
       "      <td>1028.00</td>\n",
       "      <td>1953.00</td>\n",
       "      <td>1968.00</td>\n",
       "      <td>1983.0000</td>\n",
       "      <td>2001.00</td>\n",
       "    </tr>\n",
       "    <tr>\n",
       "      <th>MonthSal</th>\n",
       "      <td>10260.0</td>\n",
       "      <td>2506.667057</td>\n",
       "      <td>1157.449634</td>\n",
       "      <td>333.00</td>\n",
       "      <td>1706.00</td>\n",
       "      <td>2501.50</td>\n",
       "      <td>3290.2500</td>\n",
       "      <td>55215.00</td>\n",
       "    </tr>\n",
       "    <tr>\n",
       "      <th>GeoLivArea</th>\n",
       "      <td>10295.0</td>\n",
       "      <td>2.709859</td>\n",
       "      <td>1.266291</td>\n",
       "      <td>1.00</td>\n",
       "      <td>1.00</td>\n",
       "      <td>3.00</td>\n",
       "      <td>4.0000</td>\n",
       "      <td>4.00</td>\n",
       "    </tr>\n",
       "    <tr>\n",
       "      <th>Children</th>\n",
       "      <td>10275.0</td>\n",
       "      <td>0.706764</td>\n",
       "      <td>0.455268</td>\n",
       "      <td>0.00</td>\n",
       "      <td>0.00</td>\n",
       "      <td>1.00</td>\n",
       "      <td>1.0000</td>\n",
       "      <td>1.00</td>\n",
       "    </tr>\n",
       "    <tr>\n",
       "      <th>CustMonVal</th>\n",
       "      <td>10296.0</td>\n",
       "      <td>177.892605</td>\n",
       "      <td>1945.811505</td>\n",
       "      <td>-165680.42</td>\n",
       "      <td>-9.44</td>\n",
       "      <td>186.87</td>\n",
       "      <td>399.7775</td>\n",
       "      <td>11875.89</td>\n",
       "    </tr>\n",
       "    <tr>\n",
       "      <th>ClaimsRate</th>\n",
       "      <td>10296.0</td>\n",
       "      <td>0.742772</td>\n",
       "      <td>2.916964</td>\n",
       "      <td>0.00</td>\n",
       "      <td>0.39</td>\n",
       "      <td>0.72</td>\n",
       "      <td>0.9800</td>\n",
       "      <td>256.20</td>\n",
       "    </tr>\n",
       "    <tr>\n",
       "      <th>PremMotor</th>\n",
       "      <td>10262.0</td>\n",
       "      <td>300.470252</td>\n",
       "      <td>211.914997</td>\n",
       "      <td>-4.11</td>\n",
       "      <td>190.59</td>\n",
       "      <td>298.61</td>\n",
       "      <td>408.3000</td>\n",
       "      <td>11604.42</td>\n",
       "    </tr>\n",
       "    <tr>\n",
       "      <th>PremHousehold</th>\n",
       "      <td>10296.0</td>\n",
       "      <td>210.431192</td>\n",
       "      <td>352.595984</td>\n",
       "      <td>-75.00</td>\n",
       "      <td>49.45</td>\n",
       "      <td>132.80</td>\n",
       "      <td>290.0500</td>\n",
       "      <td>25048.80</td>\n",
       "    </tr>\n",
       "    <tr>\n",
       "      <th>PremHealth</th>\n",
       "      <td>10253.0</td>\n",
       "      <td>171.580833</td>\n",
       "      <td>296.405976</td>\n",
       "      <td>-2.11</td>\n",
       "      <td>111.80</td>\n",
       "      <td>162.81</td>\n",
       "      <td>219.8200</td>\n",
       "      <td>28272.00</td>\n",
       "    </tr>\n",
       "    <tr>\n",
       "      <th>PremLife</th>\n",
       "      <td>10192.0</td>\n",
       "      <td>41.855782</td>\n",
       "      <td>47.480632</td>\n",
       "      <td>-7.00</td>\n",
       "      <td>9.89</td>\n",
       "      <td>25.56</td>\n",
       "      <td>57.7900</td>\n",
       "      <td>398.30</td>\n",
       "    </tr>\n",
       "    <tr>\n",
       "      <th>PremWork</th>\n",
       "      <td>10210.0</td>\n",
       "      <td>41.277514</td>\n",
       "      <td>51.513572</td>\n",
       "      <td>-12.00</td>\n",
       "      <td>10.67</td>\n",
       "      <td>25.67</td>\n",
       "      <td>56.7900</td>\n",
       "      <td>1988.70</td>\n",
       "    </tr>\n",
       "  </tbody>\n",
       "</table>\n",
       "</div>"
      ],
      "text/plain": [
       "                 count         mean          std        min      25%      50%  \\\n",
       "FirstPolYear   10266.0  1991.062634   511.267913    1974.00  1980.00  1986.00   \n",
       "BirthYear      10279.0  1968.007783    19.709476    1028.00  1953.00  1968.00   \n",
       "MonthSal       10260.0  2506.667057  1157.449634     333.00  1706.00  2501.50   \n",
       "GeoLivArea     10295.0     2.709859     1.266291       1.00     1.00     3.00   \n",
       "Children       10275.0     0.706764     0.455268       0.00     0.00     1.00   \n",
       "CustMonVal     10296.0   177.892605  1945.811505 -165680.42    -9.44   186.87   \n",
       "ClaimsRate     10296.0     0.742772     2.916964       0.00     0.39     0.72   \n",
       "PremMotor      10262.0   300.470252   211.914997      -4.11   190.59   298.61   \n",
       "PremHousehold  10296.0   210.431192   352.595984     -75.00    49.45   132.80   \n",
       "PremHealth     10253.0   171.580833   296.405976      -2.11   111.80   162.81   \n",
       "PremLife       10192.0    41.855782    47.480632      -7.00     9.89    25.56   \n",
       "PremWork       10210.0    41.277514    51.513572     -12.00    10.67    25.67   \n",
       "\n",
       "                     75%       max  \n",
       "FirstPolYear   1992.0000  53784.00  \n",
       "BirthYear      1983.0000   2001.00  \n",
       "MonthSal       3290.2500  55215.00  \n",
       "GeoLivArea        4.0000      4.00  \n",
       "Children          1.0000      1.00  \n",
       "CustMonVal      399.7775  11875.89  \n",
       "ClaimsRate        0.9800    256.20  \n",
       "PremMotor       408.3000  11604.42  \n",
       "PremHousehold   290.0500  25048.80  \n",
       "PremHealth      219.8200  28272.00  \n",
       "PremLife         57.7900    398.30  \n",
       "PremWork         56.7900   1988.70  "
      ]
     },
     "execution_count": 7,
     "metadata": {},
     "output_type": "execute_result"
    }
   ],
   "source": [
    "df.describe().T"
   ]
  },
  {
<<<<<<< Updated upstream
=======
   "cell_type": "markdown",
   "metadata": {},
   "source": [
    "---\n",
    "Histogram and boxlots BEFORE outlier removal via IQR-Method"
   ]
  },
  {
>>>>>>> Stashed changes
   "cell_type": "code",
   "execution_count": 8,
   "metadata": {},
   "outputs": [],
   "source": [
<<<<<<< Updated upstream
=======
    "sns.set()"
   ]
  },
  {
   "cell_type": "code",
   "execution_count": 9,
   "metadata": {},
   "outputs": [
    {
     "data": {
      "image/png": "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",
      "text/plain": [
       "<Figure size 2160x2160 with 24 Axes>"
      ]
     },
     "metadata": {},
     "output_type": "display_data"
    }
   ],
   "source": [
>>>>>>> Stashed changes
    "df_numeric_features = list(df.select_dtypes(include = np.number).columns)\n",
    "\n",
    "def outliers_removed(numeric_features):\n",
    "    res = {}\n",
    "    for i in numeric_features:\n",
    "        q1, q3, iqr = np.nanquantile(df[i], 0.25), np.nanquantile(df[i], 0.75), np.nanquantile(df[i], 0.75) - np.nanquantile(df[i], 0.25)\n",
    "        lower_bound = q1-(1.5*iqr)\n",
    "        upper_bound = q3+(1.5*iqr)\n",
    "\n",
<<<<<<< Updated upstream
    "        res[i] = list(df[df[i].between(lower_bound, upper_bound)][i])\n",
    "    return res\n",
    "\n",
    "out_rev = outliers_removed(df_numeric_features)"
=======
    "plt.show()"
   ]
  },
  {
   "cell_type": "markdown",
   "metadata": {},
   "source": [
    "---\n",
    "Histogram and boxlots after outlier removal via IQR-Method"
   ]
  },
  {
   "cell_type": "code",
   "execution_count": 10,
   "metadata": {},
   "outputs": [],
   "source": [
    "def inter_quartile_range(input_, cap = False):\n",
    "    '''\n",
    "    Removes outliers of column/dataframe via IQR (inter quartile range) method\n",
    "    If cap == True --> floor/cap method\n",
    "    '''\n",
    "\n",
    "    if isinstance(input_, pd.Series):\n",
    "        q1, q3 = np.nanquantile(input_, 0.25), np.nanquantile(input_, 0.75)\n",
    "        iqr = q3 - q1\n",
    "        lower_bound, upper_bound = q1-(1.5*iqr), q3+(1.5*iqr)\n",
    "\n",
    "        if cap == False:\n",
    "            return input_[input_.between(lower_bound, upper_bound, inclusive='both')]\n",
    "\n",
    "        elif cap == True:\n",
    "            return [lower_bound if i < lower_bound else upper_bound if i > upper_bound else i for i in input_]\n",
    "\n",
    "    if isinstance(input_, pd.DataFrame):\n",
    "        numeric_features = list(input_.select_dtypes(include = np.number).columns)\n",
    "\n",
    "        if cap == False:\n",
    "            rows_to_drop = set()\n",
    "            for col in numeric_features:\n",
    "                q1, q3 = np.nanquantile(input_[col], 0.25), np.nanquantile(input_[col], 0.75)\n",
    "                iqr = q3 - q1\n",
    "                lower_bound, upper_bound = q1-(1.5*iqr), q3+(1.5*iqr)\n",
    "                rows_to_drop.update(input_[~input_[col].between(lower_bound, upper_bound, inclusive='both')].index)\n",
    "            return input_.loc[~input_.index.isin(list(rows_to_drop))]\n",
    "\n",
    "        if cap == True:\n",
    "            for col in numeric_features:\n",
    "                q1, q3 = np.nanquantile(input_[col], 0.25), np.nanquantile(input_[col], 0.75)\n",
    "                iqr = q3 - q1\n",
    "                lower_bound, upper_bound = q1-(1.5*iqr), q3+(1.5*iqr)\n",
    "                input_[col] = [lower_bound if i < lower_bound else upper_bound if i > upper_bound else i for i in input_[col]]\n",
    "            return input_"
>>>>>>> Stashed changes
   ]
  },
  {
   "cell_type": "code",
<<<<<<< Updated upstream
   "execution_count": 9,
=======
   "execution_count": 11,
>>>>>>> Stashed changes
   "metadata": {},
   "outputs": [
    {
     "data": {
      "image/png": "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",
      "text/plain": [
       "<Figure size 1080x720 with 12 Axes>"
      ]
     },
<<<<<<< Updated upstream
     "metadata": {
      "needs_background": "light"
=======
     "metadata": {},
     "output_type": "display_data"
    }
   ],
   "source": [
    "fig, ax = plt.subplots(math.ceil(len(df_numeric_features)/2),4, figsize = (30,30))\n",
    "ax_flat1 = list(ax.flatten())[::2]\n",
    "ax_flat2 = list(ax.flatten())[1::2]\n",
    "for i, feat in zip(range(len(ax_flat1)), df_numeric_features):\n",
    "    ax_flat1[i].hist(inter_quartile_range(df[feat]), bins = 50, color = '#bf5252')\n",
    "    ax_flat2[i].boxplot(inter_quartile_range(df[feat]), notch = True, patch_artist = True)\n",
    "    ax_flat1[i].set_title(feat)\n",
    "    ax_flat2[i].set_title(feat)\n",
    "\n",
    "plt.show()"
   ]
  },
  {
   "cell_type": "code",
   "execution_count": 12,
   "metadata": {},
   "outputs": [],
   "source": [
    "# sns.pairplot(inter_quartile_range(df))\n",
    "# plt.show()"
   ]
  },
  {
   "cell_type": "markdown",
   "metadata": {},
   "source": [
    "---\n",
    "### Encode EducDeg"
   ]
  },
  {
   "cell_type": "code",
   "execution_count": 13,
   "metadata": {},
   "outputs": [],
   "source": [
    "#rewrite education to make it a numerical variable\n",
    "df[\"EducDeg\"] = [4 if \"PhD\" in str(i) else 3 if \"BSc\" in str(i)  else 2 if \"High School\" in str(i) else 1 for i in df['EducDeg']]"
   ]
  },
  {
   "cell_type": "markdown",
   "metadata": {},
   "source": [
    "---\n",
    "### Handling Missing Values"
   ]
  },
  {
   "cell_type": "code",
   "execution_count": 14,
   "metadata": {},
   "outputs": [],
   "source": [
    "#Scale the data for the imputation\n",
    "scaler=RobustScaler().fit(df)\n",
    "df_scaled=pd.DataFrame(scaler.transform(X=df), index = df.index ,columns = df.columns)\n",
    "\n",
    "#Impute Values\n",
    "fill_NaN = KNNImputer(missing_values=np.nan)\n",
    "imputed_DF = pd.DataFrame(fill_NaN.fit_transform(df_scaled),columns=df.columns, index=df.index )\n",
    "\n",
    "#rescale the values\n",
    "df=pd.DataFrame(scaler.inverse_transform(imputed_DF),index = df.index ,columns = df.columns)\n",
    "\n",
    "#change dtypes\n",
    "for col in ['FirstPolYear', 'BirthYear', 'EducDeg', 'GeoLivArea', 'Children']:\n",
    "    df[col] = [round(i) for i in df[col]]"
   ]
  },
  {
   "cell_type": "markdown",
   "metadata": {},
   "source": [
    "---\n",
    "### Logic Evaluation\n",
    "\n",
    "<u>FirstPolYear</u>\n",
    "- drop entire column\n",
    "1. invalid values\n",
    "2. correlation non existend"
   ]
  },
  {
   "cell_type": "code",
   "execution_count": 15,
   "metadata": {},
   "outputs": [
    {
     "data": {
      "image/png": "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",
      "text/plain": [
       "<Figure size 432x288 with 1 Axes>"
      ]
>>>>>>> Stashed changes
     },
     "output_type": "display_data"
    }
   ],
   "source": [
<<<<<<< Updated upstream
    "fig, ax = plt.subplots(math.ceil(len(df_numeric_features)/4),4, figsize = (15,10))\n",
    "for ax, feat in zip(ax.flatten(), out_rev.keys()):\n",
    "    ax.hist(out_rev[feat], bins = 50)\n",
    "    ax.set_title(feat)\n",
    "\n",
=======
    "# invalid values\n",
    "# FirstPolYear can't be smaller than BirthYear. this would indicate having a policy before being born\n",
    "\n",
    "policy_before_birth = df[df.FirstPolYear < df.BirthYear].FirstPolYear - df[df.FirstPolYear < df.BirthYear].BirthYear\n",
    "plt.hist(policy_before_birth, color = '#bf5252')\n",
    "plt.show()"
   ]
  },
  {
   "cell_type": "code",
   "execution_count": 16,
   "metadata": {},
   "outputs": [],
   "source": [
    "# # correlation non existend\n",
    "\n",
    "# df.corr(method = 'spearman')['FirstPolYear'].sort_values(ascending=False)"
   ]
  },
  {
   "cell_type": "code",
   "execution_count": 17,
   "metadata": {},
   "outputs": [],
   "source": [
    "# # drop column\n",
    "\n",
    "# df.drop(columns=['FirstPolYear'], inplace=True)"
   ]
  },
  {
   "cell_type": "markdown",
   "metadata": {},
   "source": [
    "<u>BirthYear</u>\n",
    "\n",
    "- Inconsistency Hyopthesis: there could be values in \"Birth Year\" which are bigger than 2016. \n",
    "- Not the case but there are 116 (1% of dataset) customers which are underage\n",
    "- We assume that children are insured via their parents and therefore drop these rows"
   ]
  },
  {
   "cell_type": "code",
   "execution_count": 18,
   "metadata": {},
   "outputs": [
    {
     "name": "stdout",
     "output_type": "stream",
     "text": [
      "116 Customers are underage\n"
     ]
    }
   ],
   "source": [
    "print(df[(2016-df[\"BirthYear\"])<18].shape[0], \"Customers are underage\")\n",
    "df=df[(2016-df[\"BirthYear\"])>17]"
   ]
  },
  {
   "cell_type": "markdown",
   "metadata": {},
   "source": [
    "<u>TotalPrem</u>\n",
    "\n",
    "- Inconsistency Hyopthesis: there could be customers who spend more on their annual premiums than they earn in one month \n",
    "- We assume that this is the result of a miscalculation and therefore we drop the respective rows (1)"
   ]
  },
  {
   "cell_type": "code",
   "execution_count": 19,
   "metadata": {},
   "outputs": [],
   "source": [
    "df[\"TotalPrem\"]=df[['PremMotor', 'PremHousehold', 'PremHealth','PremLife', 'PremWork']].sum(axis = 1)\n",
    "df=df[df[\"TotalPrem\"] < df[\"MonthSal\"]*12]"
   ]
  },
  {
   "cell_type": "markdown",
   "metadata": {},
   "source": [
    "---\n",
    "### Outlier handling"
   ]
  },
  {
   "cell_type": "markdown",
   "metadata": {},
   "source": [
    "<u>Salary & BirthYear</u>\n",
    "- drop outlier observations (3 in total)"
   ]
  },
  {
   "cell_type": "code",
   "execution_count": 20,
   "metadata": {},
   "outputs": [
    {
     "name": "stdout",
     "output_type": "stream",
     "text": [
      "MonthSal outliers: 2\n",
      "BirthYear outliers: 1\n"
     ]
    }
   ],
   "source": [
    "q25 = df.MonthSal.quantile(.25)\n",
    "q75 = df.MonthSal.quantile(.75)\n",
    "iqr = (q75 - q25)\n",
    "\n",
    "sal_upper_lim = q75 + 1.5 * iqr\n",
    "sal_lower_lim = q25 - 1.5 * iqr\n",
    "\n",
    "Salary_out = df[(df[\"MonthSal\"]>sal_upper_lim) | (df[\"MonthSal\"]<sal_lower_lim)]\n",
    "print(f'MonthSal outliers: {len(Salary_out)}')\n",
    "\n",
    "q25 = df.BirthYear.quantile(.25)\n",
    "q75 = df.BirthYear.quantile(.75)\n",
    "iqr = (q75 - q25)\n",
    "\n",
    "birth_upper_lim = q75 + 1.5 * iqr\n",
    "birth_lower_lim = q25 - 1.5 * iqr\n",
    "\n",
    "Birthday_out = df[(df[\"BirthYear\"]>birth_upper_lim) | (df[\"BirthYear\"]<birth_lower_lim)]\n",
    "print(f'BirthYear outliers: {len(Birthday_out)}')"
   ]
  },
  {
   "cell_type": "code",
   "execution_count": 21,
   "metadata": {},
   "outputs": [],
   "source": [
    "# excute decision-making for MonthSal & BirthYear\n",
    "df = df[df.MonthSal.between(sal_lower_lim,sal_upper_lim)]\n",
    "\n",
    "df = df[df.BirthYear.between(birth_lower_lim,birth_upper_lim)]"
   ]
  },
  {
   "cell_type": "markdown",
   "metadata": {},
   "source": [
    "<u>ClaimsRate & CustMonVal</u>\n",
    "- since ClaimsRate is highly correlated with CustMonVal (-0.992622) we're going to drop the column with more outliers (CustMonVal).\n",
    "- subsequently we're going to drop the 15 outlier observations from ClaimsRate"
   ]
  },
  {
   "cell_type": "code",
   "execution_count": 22,
   "metadata": {},
   "outputs": [
    {
     "name": "stdout",
     "output_type": "stream",
     "text": [
      "ClaimsRate outliers: 15\n",
      "CustMonVal outliers: 102\n"
     ]
    }
   ],
   "source": [
    "# outlier ClaimsRate\n",
    "\n",
    "q25 = df.ClaimsRate.quantile(.25)\n",
    "q75 = df.ClaimsRate.quantile(.75)\n",
    "iqr = (q75 - q25)\n",
    "\n",
    "claim_upper_lim = q75 + 1.5 * iqr\n",
    "claim_lower_lim = q25 - 1.5 * iqr\n",
    "\n",
    "ClaimsRate_out = df[(df[\"ClaimsRate\"]>claim_upper_lim) | (df[\"ClaimsRate\"]<claim_lower_lim)]\n",
    "print(f'ClaimsRate outliers: {len(ClaimsRate_out)}')\n",
    "\n",
    "# outlier CustMonVal\n",
    "\n",
    "q25 = df.CustMonVal.quantile(.25)\n",
    "q75 = df.CustMonVal.quantile(.75)\n",
    "iqr = (q75 - q25)\n",
    "\n",
    "cust_upper_lim = q75 + 1.5 * iqr\n",
    "cust_lower_lim = q25 - 1.5 * iqr\n",
    "\n",
    "CustMonVal_out = df[(df[\"CustMonVal\"]>cust_upper_lim) | (df[\"CustMonVal\"]<cust_lower_lim)]\n",
    "print(f'CustMonVal outliers: {len(CustMonVal_out)}')"
   ]
  },
  {
   "cell_type": "code",
   "execution_count": 23,
   "metadata": {},
   "outputs": [
    {
     "data": {
      "text/plain": [
       "ClaimsRate       1.000000\n",
       "PremHealth       0.015285\n",
       "GeoLivArea       0.007694\n",
       "BirthYear        0.005808\n",
       "EducDeg          0.005040\n",
       "PremLife         0.001527\n",
       "PremWork        -0.001025\n",
       "FirstPolYear    -0.001211\n",
       "Children        -0.002291\n",
       "MonthSal        -0.004262\n",
       "TotalPrem       -0.006475\n",
       "PremMotor       -0.006734\n",
       "PremHousehold   -0.007523\n",
       "CustMonVal      -0.992719\n",
       "Name: ClaimsRate, dtype: float64"
      ]
     },
     "execution_count": 23,
     "metadata": {},
     "output_type": "execute_result"
    }
   ],
   "source": [
    "df.corr()['ClaimsRate'].sort_values(ascending=False)"
   ]
  },
  {
   "cell_type": "code",
   "execution_count": 24,
   "metadata": {},
   "outputs": [],
   "source": [
    "# excute decision-making for ClaimsRate & CustMonVal\n",
    "df = df[df.ClaimsRate.between(claim_lower_lim, claim_upper_lim)]\n",
    "\n",
    "df = df.drop(columns=['CustMonVal'])"
   ]
  },
  {
   "cell_type": "markdown",
   "metadata": {},
   "source": [
    "<u>Premium columns</u>\n",
    "- there are 3 columns with 600+ outliers. since droping these observations would end up in a large information loss we need to find another solution. droping columns due to high correlation isn't possible here so we're are flooring and capping these 3 columns. \n",
    "- regarding the other 2 columns (PremMotor & PremHealth) we just drop the outlier observations"
   ]
  },
  {
   "cell_type": "code",
   "execution_count": 25,
   "metadata": {},
   "outputs": [
    {
     "name": "stdout",
     "output_type": "stream",
     "text": [
      "PremMotor outliers: 6\n",
      "PremHousehold outliers: 610\n",
      "PremHealth outliers: 24\n",
      "PremLife outliers: 611\n",
      "PremWork outliers: 620\n"
     ]
    }
   ],
   "source": [
    "d = {}\n",
    "lims = {}\n",
    "for col in ['PremMotor', 'PremHousehold', 'PremHealth', 'PremLife', 'PremWork']:\n",
    "    q25 = df[col].quantile(.25)\n",
    "    q75 = df[col].quantile(.75)\n",
    "    iqr = (q75 - q25)\n",
    "\n",
    "    upper_lim = q75 + 1.5 * iqr\n",
    "    lower_lim = q25 - 1.5 * iqr\n",
    "\n",
    "    lims[col] = (lower_lim, upper_lim)\n",
    "\n",
    "    outlier_count = df[(df[col]>upper_lim) | (df[col]<lower_lim)]\n",
    "    if len(outlier_count) > 600:\n",
    "        d[col+'_outlier'] = set(outlier_count.index)\n",
    "    print(f'{col} outliers: {len(outlier_count)}')"
   ]
  },
  {
   "cell_type": "code",
   "execution_count": 26,
   "metadata": {},
   "outputs": [
    {
     "data": {
      "image/png": "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",
      "text/plain": [
       "<Figure size 432x288 with 2 Axes>"
      ]
     },
     "metadata": {},
     "output_type": "display_data"
    }
   ],
   "source": [
    "prem_corr = df.corr()\n",
    "prem_corr = prem_corr[['PremMotor', 'PremHousehold', 'PremHealth', 'PremLife', 'PremWork']]\n",
    "sns.heatmap(prem_corr.loc[['PremMotor', 'PremHousehold', 'PremHealth', 'PremLife', 'PremWork']], annot=True, cmap = 'Spectral')\n",
>>>>>>> Stashed changes
    "plt.show()"
   ]
  },
  {
   "cell_type": "code",
<<<<<<< Updated upstream
   "execution_count": 10,
=======
   "execution_count": 27,
   "metadata": {},
   "outputs": [],
   "source": [
    "df = df[df.PremMotor.between(lims['PremMotor'][0],lims['PremMotor'][1])]\n",
    "df = df[df.PremHealth.between(lims['PremHealth'][0],lims['PremHealth'][1])]\n",
    "\n",
    "for col in ['PremHousehold', 'PremLife', 'PremWork']:\n",
    "    df[col] = inter_quartile_range(df[col], cap=True)"
   ]
  },
  {
   "cell_type": "markdown",
   "metadata": {},
   "source": [
    "---\n",
    "### FirstPolYear"
   ]
  },
  {
   "cell_type": "code",
   "execution_count": 28,
   "metadata": {},
   "outputs": [],
   "source": [
    "# # define clean dataframe\n",
    "# df_clean = df[df.FirstPolYear > df.BirthYear]\n",
    "\n",
    "# # scaler\n",
    "# scl = RobustScaler()\n",
    "# df_clean_scaled = pd.DataFrame(scl.fit_transform(df_clean), columns = df_clean.columns, index = df_clean.index)\n",
    "\n",
    "# # fit imputer on clean dataset\n",
    "# imputer = KNNImputer()\n",
    "# imputer.fit(df_clean_scaled)\n",
    "\n",
    "# df_to_modify = df.copy()\n",
    "# df_to_modify['FirstPolYear']    = [np.nan if i < j else i for i, j in zip(df.FirstPolYear, df.BirthYear)]\n",
    "# df_to_modify['BirthYear']       = [np.nan if i < j else j for i, j in zip(df.FirstPolYear, df.BirthYear)]\n",
    "\n",
    "# # scale whole dataset\n",
    "# df_scaled = pd.DataFrame(scl.transform(df_to_modify), columns = df_to_modify.columns, index = df_to_modify.index)\n",
    "\n",
    "# # impute whole dataset\n",
    "# df_imputed = pd.DataFrame(imputer.transform(df_scaled), columns = df_scaled.columns, index = df_scaled.index)\n",
    "\n",
    "# # reverse scale\n",
    "# df_final = pd.DataFrame(scl.inverse_transform(df_imputed), columns = df_imputed.columns, index = df_imputed.index)\n",
    "\n",
    "# for col in ['FirstPolYear', 'BirthYear', 'EducDeg', 'GeoLivArea', 'Children']:\n",
    "#     df_final[col] = [round(i) for i in df_final[col]]\n",
    "\n",
    "# df_final['age'] = [2016 - by for by in df_final.BirthYear]"
   ]
  },
  {
   "cell_type": "code",
   "execution_count": 29,
>>>>>>> Stashed changes
   "metadata": {},
   "outputs": [
    {
     "data": {
<<<<<<< Updated upstream
      "image/png": "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",
      "text/plain": [
       "<Figure size 1080x720 with 12 Axes>"
      ]
     },
     "metadata": {
      "needs_background": "light"
=======
      "image/png": "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",
      "text/plain": [
       "<Figure size 432x288 with 1 Axes>"
      ]
>>>>>>> Stashed changes
     },
     "output_type": "display_data"
    }
   ],
   "source": [
<<<<<<< Updated upstream
    "fig, ax = plt.subplots(math.ceil(len(df_numeric_features)/4),4, figsize = (15,10))\n",
    "for ax, feat in zip(ax.flatten(), out_rev.keys()):\n",
    "    ax.boxplot(out_rev[feat], notch = True, patch_artist = True)\n",
    "    ax.set_title(feat)\n",
    "\n",
    "plt.show()"
=======
    "# plt.hist(df_final.age, color = '#bf5252')\n",
    "# plt.show()"
>>>>>>> Stashed changes
   ]
  },
  {
   "cell_type": "code",
   "execution_count": null,
   "metadata": {},
   "outputs": [],
   "source": [
    "df_final[df_final.FirstPolYear < df_final.BirthYear]"
   ]
  },
  {
   "cell_type": "markdown",
   "metadata": {},
   "source": [
    "---\n",
    "# Association Rule Mining"
   ]
  },
  {
   "cell_type": "code",
   "execution_count": null,
   "metadata": {},
   "outputs": [],
   "source": [
    "#pip install apyori\n",
    "import numpy as np\n",
    "import matplotlib.pyplot as plt\n",
    "import pandas as pd\n",
    "from mlxtend.frequent_patterns import apriori, association_rules\n",
    "\n",
    "\n",
    "df_ass = df.copy()\n",
    "df_ass=df_ass[['PremMotor', 'PremHousehold', 'PremHealth', 'PremLife', 'PremWork']]\n",
    "\n",
    "for i in range(df_ass.shape[0]):\n",
    "    for j in range(df_ass.shape[1]):\n",
    "        if df_ass.iloc[i,j] != 0: \n",
    "            df_ass.iloc[i,j] = 1\n",
    "        else:\n",
    "            df_ass.iloc[i,j] = 0\n",
    "\n",
    "df_a = apriori(df_ass, use_colnames = True, verbose = 1)#, min_support = 0.2, use_colnames = True, verbose = 1)\n",
    "\n",
    "\n",
    "df_ar = association_rules(df_a, metric = \"confidence\", min_threshold = 0.6)\n",
    "df_ar"
   ]
  },
  {
   "cell_type": "markdown",
   "metadata": {},
   "source": [
    "---\n",
    "### PCA"
   ]
  },
  {
   "cell_type": "code",
   "execution_count": null,
   "metadata": {},
   "outputs": [],
   "source": [
    "df_pca = df.copy()"
   ]
  },
  {
   "cell_type": "code",
   "execution_count": null,
   "metadata": {},
   "outputs": [],
   "source": [
    "scaler = RobustScaler()\n",
    "df_pca = pd.DataFrame(scaler.fit_transform(df_pca), columns=df_pca.columns, index = df_pca.index)\n",
    "df_pca.head(5)"
   ]
  },
  {
   "cell_type": "code",
   "execution_count": null,
   "metadata": {},
   "outputs": [],
   "source": [
    "def principal_component_analysis(dataframe, var_treshold=0.8):\n",
    "    '''\n",
    "    Creates and add n principal n_components (dependent on variance treshold)\n",
    "    '''\n",
    "\n",
    "    pca = PCA()\n",
    "    pca_feat = pca.fit_transform(dataframe)\n",
    "    nr_of_components = np.argmax(np.cumsum(pca.explained_variance_ratio_) > var_treshold) + 1\n",
    "\n",
    "    pca = PCA(n_components=nr_of_components)\n",
    "    pca_feat = pca.fit_transform(dataframe)\n",
    "    pca_feat_names = [f'PC{i}' for i in range(pca.n_components_)]\n",
    "    pca_df = pd.DataFrame(pca_feat, index=dataframe.index, columns=pca_feat_names)\n",
    "\n",
    "    dataframe = pd.concat([dataframe, pca_df], axis=1)\n",
    "\n",
    "    return dataframe"
   ]
  },
  {
   "cell_type": "code",
   "execution_count": null,
   "metadata": {},
   "outputs": [],
   "source": [
    "df_pca = principal_component_analysis(df_pca)"
   ]
  },
  {
   "cell_type": "code",
   "execution_count": null,
   "metadata": {},
   "outputs": [],
   "source": [
    "df_pca.head(5)"
   ]
  },
  {
   "cell_type": "markdown",
   "metadata": {},
   "source": [
    "---\n",
    "# Clustering\n",
    "\n",
    "### 1. Centroid Based Clustering\n",
    "a. [<font color='#E8800A'>KMeans</font>](#KMEANS) <br>\n",
    "b. [<font color='#E8800A'>Mean Shift</font>](#MEANSHIFT) <br>\n",
    "\n",
    "### 2. Density Based Clustering\n",
    "a. [<font color='#E8800A'>DBScan</font>](#DBSCAN) <br>\n",
    "\n",
    "### 3. Distribution Based Cluster\n",
    "a. [<font color='#E8800A'>Gaussian Mixture Model</font>](#GMM) <br>\n",
    "\n",
    "### 4. Neural Network Methods\n",
    "a. [<font color='#E8800A'>Self Organizing Maps</font>](#SOM) <br>\n",
    "\n",
    "### 5. Combinations\n",
    "a. [<font color='#E8800A'>KMeans + SOM</font>](#SOM_KMEANS) <br>"
   ]
  },
  {
   "cell_type": "markdown",
   "metadata": {},
   "source": [
    "---\n",
    "## 1. Centroid Based Clustering:\n",
    "### a. Kmeans\n",
    "<a class=\"anchor\"><a id='KMEANS'></a></b><br>"
   ]
  },
  {
   "cell_type": "code",
   "execution_count": null,
   "metadata": {},
   "outputs": [],
   "source": [
    "df_clust = df_pca.copy()"
   ]
  },
  {
   "cell_type": "code",
   "execution_count": null,
   "metadata": {},
   "outputs": [],
   "source": [
    "from sklearn.cluster import KMeans"
   ]
  },
  {
   "cell_type": "code",
   "execution_count": null,
   "metadata": {},
   "outputs": [],
   "source": [
    "wcss = []\n",
    "\n",
    "for i in range(1,11):\n",
    "    kmeans = KMeans(n_clusters=i, init='k-means++', random_state=1)\n",
    "    kmeans.fit(df_clust)\n",
    "\n",
    "    wcss.append(kmeans.inertia_)"
   ]
  },
  {
   "cell_type": "code",
   "execution_count": null,
   "metadata": {},
   "outputs": [],
   "source": [
    "plt.plot(range(1,11), wcss)\n",
    "plt.title('Elbow Method')\n",
    "plt.xlabel('Number of clusters')\n",
    "plt.ylabel('WCSS')\n",
    "plt.show()"
   ]
  },
  {
   "cell_type": "code",
   "execution_count": null,
   "metadata": {},
   "outputs": [],
   "source": [
    "def summarize_clusters(labels):\n",
    "    df_labels = pd.DataFrame(index = df_clust.index, data = labels, columns = ['labels'])\n",
    "    groupby_mean = pd.merge(df_labels, df, left_index=True, right_index=True).groupby('labels').mean()\n",
    "    for col in ['BirthYear', 'EducDeg', 'GeoLivArea', 'Children']:\n",
    "        groupby_mean[col] = [round(i) for i in groupby_mean[col]]\n",
    "    groupby_mean['EducDeg'] = ['PhD' if i==4 else 'BSc/MSc' if i==3 else 'High School' if i== 2 else 'Basic' for i in groupby_mean['EducDeg']]\n",
    "\n",
    "    return groupby_mean"
   ]
  },
  {
   "cell_type": "code",
   "execution_count": null,
   "metadata": {},
   "outputs": [],
   "source": [
    "from sklearn.cluster import KMeans\n",
    "\n",
    "kmeans = KMeans(n_clusters=3, init='k-means++').fit(df_clust)\n",
    "kmeans_labels = kmeans.labels_\n",
    "\n",
    "# summarize_clusters(kmeans.labels_)"
   ]
  },
  {
   "cell_type": "markdown",
   "metadata": {},
   "source": [
    "---\n",
    "### b. Mean Shift Clustering\n",
    "<a class=\"anchor\"><a id='MEANSHIFT'></a></b><br>"
   ]
  },
  {
   "cell_type": "code",
   "execution_count": 1,
   "metadata": {},
   "outputs": [],
   "source": [
    "from sklearn.cluster import MeanShift, DBSCAN, estimate_bandwidth"
   ]
  },
  {
   "cell_type": "code",
   "execution_count": null,
   "metadata": {},
   "outputs": [],
   "source": [
    "pca_features = df_pca.iloc[:, -5:]\n",
    "pca_features"
   ]
  },
  {
   "cell_type": "code",
   "execution_count": null,
   "metadata": {},
   "outputs": [],
   "source": [
    "def get_ss(df):\n",
    "    \"\"\"Computes the sum of squares for all variables given a dataset\n",
    "    \"\"\"\n",
    "    ss = np.sum(df.var() * (df.count() - 1))\n",
    "    return ss  # return sum of sum of squares of each df variable"
   ]
  },
  {
   "cell_type": "code",
   "execution_count": null,
   "metadata": {},
   "outputs": [],
   "source": [
    "# The following bandwidth can be automatically detected using (we need to set quantile though)\n",
    "# Based on distance to nearest neighbors for all observations\n",
    "\n",
    "bandwidth = estimate_bandwidth(df_pca,\n",
    "                               quantile=0.06, #Should be between [0, 1] 0.5 means that the median of all pairwise distances is used.\n",
    "                               random_state=1, \n",
    "                               n_jobs=-1)#The number of parallel jobs to run for neighbors search\n",
    "bandwidth"
   ]
  },
  {
   "cell_type": "code",
   "execution_count": null,
   "metadata": {},
   "outputs": [],
   "source": [
    "# Perform mean-shift clustering with bandwidth set using estimate_bandwidth\n",
    "ms = MeanShift(bandwidth=bandwidth, #Bandwidth used in the RBF kernel.\n",
    "               bin_seeding=True, #If true, initial kernel locations are not locations of all points, but rather the location of the discretized version of points, where points are binned onto a grid whose coarseness corresponds to the bandwidth.\n",
    "               n_jobs=4)\n",
    "ms_labels = ms.fit_predict(df_pca)\n",
    "\n",
    "ms_n_clusters = len(np.unique(ms_labels))\n",
    "print(\"Number of estimated clusters : %d\" % ms_n_clusters)"
   ]
  },
  {
   "cell_type": "code",
   "execution_count": null,
   "metadata": {},
   "outputs": [],
   "source": [
    "# Concatenating the labels to df\n",
    "df_concat = pd.concat([df_pca, pd.Series(ms_labels, index=df.index, name=\"ms_labels\")], axis=1)"
   ]
  },
  {
   "cell_type": "code",
   "execution_count": null,
   "metadata": {},
   "outputs": [],
   "source": [
    "#Hier die VizMegaFunktion"
   ]
  },
  {
   "cell_type": "markdown",
   "metadata": {},
   "source": [
    "---\n",
    "## 2.Density Based Clustering \n",
    "### a. DB Scan \n",
    "<a class=\"anchor\"><a id='DBSCAN'></a></b><br>"
   ]
  },
  {
   "cell_type": "code",
   "execution_count": null,
   "metadata": {},
   "outputs": [],
   "source": [
    "# K-distance graph to find out the right eps value\n",
    "neigh = NearestNeighbors(n_neighbors=20)\n",
    "neigh.fit(df_pca)\n",
    "distances, _ = neigh.kneighbors(df_pca)\n",
    "distances = np.sort(distances[:, -1])\n",
    "plt.plot(distances)\n",
    "plt.show()"
   ]
  },
  {
   "cell_type": "code",
   "execution_count": null,
   "metadata": {},
   "outputs": [],
   "source": [
    "#ε- the neighborhood radius: EPS\n",
    "#MinPts — the neighborhood density threshold: MinSamples\n",
    "#https://towardsdatascience.com/a-practical-guide-to-dbscan-method-d4ec5ab2bc99\n",
    "\n",
    "dbscan = DBSCAN(eps=18, min_samples=3, n_jobs=4)\n",
    "dbscan_labels = dbscan.fit_predict(df)\n",
    "\n",
    "dbscan_n_clusters = len(np.unique(dbscan_labels))\n",
    "print(\"eps\", i, \"Number of estimated clusters : %d\" % dbscan_n_clusters)"
   ]
  },
  {
   "cell_type": "code",
   "execution_count": null,
   "metadata": {},
   "outputs": [],
   "source": [
    "# Concatenating the labels to df\n",
    "df_concat = pd.concat([df, pd.Series(dbscan_labels, index=df.index, name=\"dbscan_labels\")], axis=1)\n",
    "df_concat.head()"
   ]
  },
  {
   "cell_type": "code",
   "execution_count": null,
   "metadata": {},
   "outputs": [],
   "source": [
    "# Detecting noise (potential outliers)\n",
    "df_concat.loc[df_concat['dbscan_labels'] == -1]"
   ]
  },
  {
   "cell_type": "code",
   "execution_count": null,
   "metadata": {},
   "outputs": [],
   "source": [
    "#Hier die Mega Viz Funktion einfügen"
   ]
  },
  {
   "cell_type": "markdown",
   "metadata": {},
   "source": [
    "---\n",
    "## 3. Distribution Based Cluster\n",
    "### a. GMM (Gaussian Mixture Model)\n",
    "<a class=\"anchor\"><a id='GMM'></a></b><br>"
   ]
  },
  {
   "cell_type": "code",
   "execution_count": null,
   "metadata": {},
   "outputs": [],
   "source": [
    "# Performing GMM clustering\n",
    "gmm = GaussianMixture(n_components=4, covariance_type='full', n_init=10, init_params='kmeans', random_state=1)\n",
    "gmm_labels = gmm.fit_predict(df)\n",
    "labels_proba = gmm.predict_proba(df)"
   ]
  },
  {
   "cell_type": "code",
   "execution_count": null,
   "metadata": {},
   "outputs": [],
   "source": [
    "# The estimated mean vectors of the Components\n",
    "gmm.means_"
   ]
  },
  {
   "cell_type": "code",
   "execution_count": null,
   "metadata": {},
   "outputs": [],
   "source": [
    "# The estimated covariance matrices of the Components\n",
    "gmm.covariances_.shape"
   ]
  },
  {
   "cell_type": "code",
   "execution_count": null,
   "metadata": {},
   "outputs": [],
   "source": [
    "# Selecting number of components based on AIC and BIC\n",
    "n_components = np.arange(1, 16)\n",
    "models = [GaussianMixture(n, covariance_type='full', n_init=10, random_state=1).fit(df)\n",
    "          for n in n_components]\n",
    "\n",
    "bic_values = [m.bic(df) for m in models]\n",
    "aic_values = [m.aic(df) for m in models]\n",
    "plt.plot(n_components, bic_values, label='BIC')\n",
    "plt.plot(n_components, aic_values, label='AIC')\n",
    "plt.legend(loc='best')\n",
    "plt.xlabel('n_components')\n",
    "plt.xticks(n_components)\n",
    "plt.show()"
   ]
  },
  {
   "cell_type": "code",
   "execution_count": null,
   "metadata": {},
   "outputs": [],
   "source": [
    "# Performing GMM clustering\n",
    "gmm = GaussianMixture(n_components=3, covariance_type='full', n_init=10, init_params='kmeans', random_state=1)\n",
    "gmm_labels = gmm.fit_predict(df)\n",
    "\n",
    "# Concatenating the labels to df\n",
    "df_concat = pd.concat([df, pd.Series(gmm_labels, index=df.index, name=\"gmm_labels\")], axis=1)\n",
    "df_concat.head()"
   ]
  },
  {
   "cell_type": "code",
   "execution_count": null,
   "metadata": {},
   "outputs": [],
   "source": [
    "#Hier die Mega Viz Funktion Einfügen"
   ]
  },
  {
   "cell_type": "markdown",
   "metadata": {},
   "source": [
    "---\n",
    "## 4. Neural Network Methods\n",
    "### a. Self Organizing Maps\n",
    "<a class=\"anchor\"><a id='GMM'></a></b><br>"
   ]
  },
  {
   "cell_type": "code",
   "execution_count": null,
   "metadata": {},
   "outputs": [],
   "source": [
    "#hier einfügen"
   ]
  },
  {
   "cell_type": "markdown",
   "metadata": {},
   "source": [
    "---\n",
    "## 5. Combinations\n",
    "### a. Self Organizing Maps and K-Means\n",
    "<a class=\"anchor\"><a id='SOM_KMEANS'></a></b><br>"
   ]
  }
 ],
 "metadata": {
  "kernelspec": {
   "display_name": "Python 3 (ipykernel)",
   "language": "python",
   "name": "python3"
  },
  "language_info": {
   "codemirror_mode": {
    "name": "ipython",
    "version": 3
   },
   "file_extension": ".py",
   "mimetype": "text/x-python",
   "name": "python",
   "nbconvert_exporter": "python",
   "pygments_lexer": "ipython3",
   "version": "3.9.12"
  },
  "vscode": {
   "interpreter": {
    "hash": "8540791a84c9dd273039c82e4c4906b2f22bd80b7ff15c37ffcc5926b6e4ab9b"
   }
  }
 },
 "nbformat": 4,
 "nbformat_minor": 2
}
